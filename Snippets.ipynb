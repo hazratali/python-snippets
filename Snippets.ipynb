{
  "nbformat": 4,
  "nbformat_minor": 0,
  "metadata": {
    "kernelspec": {
      "display_name": "Python 3",
      "language": "python",
      "name": "python3"
    },
    "language_info": {
      "codemirror_mode": {
        "name": "ipython",
        "version": 3
      },
      "file_extension": ".py",
      "mimetype": "text/x-python",
      "name": "python",
      "nbconvert_exporter": "python",
      "pygments_lexer": "ipython3",
      "version": "3.7.4"
    },
    "colab": {
      "name": "Snippets.ipynb",
      "provenance": [],
      "include_colab_link": true
    }
  },
  "cells": [
    {
      "cell_type": "markdown",
      "metadata": {
        "id": "view-in-github",
        "colab_type": "text"
      },
      "source": [
        "<a href=\"https://colab.research.google.com/github/hazratali/python-snippets/blob/main/Snippets.ipynb\" target=\"_parent\"><img src=\"https://colab.research.google.com/assets/colab-badge.svg\" alt=\"Open In Colab\"/></a>"
      ]
    },
    {
      "cell_type": "markdown",
      "metadata": {
        "id": "orUZ7NIV27_i"
      },
      "source": [
        "# Python Snippets\n",
        "Python snippets in no specific order"
      ]
    },
    {
      "cell_type": "markdown",
      "metadata": {
        "id": "o3Z6uL4D27_k"
      },
      "source": [
        "## Print week of the year\n",
        "To check the current week of the year, use the following. It will print the current week number of the year."
      ]
    },
    {
      "cell_type": "code",
      "metadata": {
        "id": "t608-iiz27_l",
        "outputId": "a3c0a546-0652-4414-f20d-7461d5b84e86"
      },
      "source": [
        "import datetime\n",
        "datetime.date.today().isocalendar()[1] "
      ],
      "execution_count": null,
      "outputs": [
        {
          "output_type": "execute_result",
          "data": {
            "text/plain": [
              "41"
            ]
          },
          "metadata": {
            "tags": []
          },
          "execution_count": 2
        }
      ]
    },
    {
      "cell_type": "markdown",
      "metadata": {
        "id": "KALIFAZv3A4o"
      },
      "source": [
        "# Enforce delay \n",
        "We can enforce delay between execution of the next command. Say, we would like to print `hello` a 1000 thousand times. In-between each print, we are enforcing a delay of 2 seconds. \n",
        "```python\n",
        "import time\n",
        "for i in range(1_000):\n",
        "print('hello', i)\n",
        "  time.sleep(2) #2 sec delay before next execution\n",
        "```"
      ]
    },
    {
      "cell_type": "code",
      "metadata": {
        "id": "ukJ12O0g27_q",
        "outputId": "ae20c752-97d5-4312-b095-ba43036f5eb9",
        "colab": {
          "base_uri": "https://localhost:8080/",
          "height": 320
        }
      },
      "source": [
        "import time\n",
        "for i in range(1_000):\n",
        "  print('hello', i)\n",
        "  time.sleep(2) #2 sec delay before next execution"
      ],
      "execution_count": null,
      "outputs": [
        {
          "output_type": "stream",
          "text": [
            "hello 0\n",
            "hello 1\n",
            "hello 2\n",
            "hello 3\n",
            "hello 4\n",
            "hello 5\n",
            "hello 6\n"
          ],
          "name": "stdout"
        },
        {
          "output_type": "error",
          "ename": "KeyboardInterrupt",
          "evalue": "ignored",
          "traceback": [
            "\u001b[0;31m---------------------------------------------------------------------------\u001b[0m",
            "\u001b[0;31mKeyboardInterrupt\u001b[0m                         Traceback (most recent call last)",
            "\u001b[0;32m<ipython-input-3-63bd7a837621>\u001b[0m in \u001b[0;36m<module>\u001b[0;34m()\u001b[0m\n\u001b[1;32m      2\u001b[0m \u001b[0;32mfor\u001b[0m \u001b[0mi\u001b[0m \u001b[0;32min\u001b[0m \u001b[0mrange\u001b[0m\u001b[0;34m(\u001b[0m\u001b[0;36m1_000\u001b[0m\u001b[0;34m)\u001b[0m\u001b[0;34m:\u001b[0m\u001b[0;34m\u001b[0m\u001b[0;34m\u001b[0m\u001b[0m\n\u001b[1;32m      3\u001b[0m   \u001b[0mprint\u001b[0m\u001b[0;34m(\u001b[0m\u001b[0;34m'hello'\u001b[0m\u001b[0;34m,\u001b[0m \u001b[0mi\u001b[0m\u001b[0;34m)\u001b[0m\u001b[0;34m\u001b[0m\u001b[0;34m\u001b[0m\u001b[0m\n\u001b[0;32m----> 4\u001b[0;31m   \u001b[0mtime\u001b[0m\u001b[0;34m.\u001b[0m\u001b[0msleep\u001b[0m\u001b[0;34m(\u001b[0m\u001b[0;36m2\u001b[0m\u001b[0;34m)\u001b[0m \u001b[0;31m#2 sec delay before next execution\u001b[0m\u001b[0;34m\u001b[0m\u001b[0;34m\u001b[0m\u001b[0m\n\u001b[0m",
            "\u001b[0;31mKeyboardInterrupt\u001b[0m: "
          ]
        }
      ]
    },
    {
      "cell_type": "markdown",
      "metadata": {
        "id": "nfOtitoPA8mC"
      },
      "source": [
        "# Convert PDF file to PNG images\n",
        "First, you need to install the pdf2image package by using \n",
        "```\n",
        "pip install pdf2image\n",
        "``` \n",
        "OR \n",
        "```\n",
        "!pip install pdf2image # if you are in Colab\n",
        "```\n",
        "\n",
        "*p.s: To run this on Colab, you may need to upload the PDF files to the /content/ directory.*  "
      ]
    },
    {
      "cell_type": "code",
      "metadata": {
        "id": "lrKfLCgbA8Lj",
        "outputId": "6f988b74-50ca-47d9-f7ef-a8dd58e68dfa",
        "colab": {
          "base_uri": "https://localhost:8080/",
          "height": 102
        }
      },
      "source": [
        "!pip install pdf2image"
      ],
      "execution_count": 1,
      "outputs": [
        {
          "output_type": "stream",
          "text": [
            "Collecting pdf2image\n",
            "  Downloading https://files.pythonhosted.org/packages/03/62/089030fd16ab3e5c245315d63c80b29250b8f9e4579b5a09306eb7e7539c/pdf2image-1.14.0-py3-none-any.whl\n",
            "Requirement already satisfied: pillow in /usr/local/lib/python3.6/dist-packages (from pdf2image) (7.0.0)\n",
            "Installing collected packages: pdf2image\n",
            "Successfully installed pdf2image-1.14.0\n"
          ],
          "name": "stdout"
        }
      ]
    },
    {
      "cell_type": "code",
      "metadata": {
        "id": "fj4KfPJJ3RuI"
      },
      "source": [
        "from pdf2image import convert_from_path\n",
        "dpi_value = 400 # Choose value as per your choice. \n",
        "pages = convert_from_path('SampleFile.pdf', dpi_value) # Here SampleFile.pdf is the pdf file\n",
        "for page in pages:\n",
        "    page.save('SampleFile.png', 'PNG') # You can also save as .JPEG\n"
      ],
      "execution_count": null,
      "outputs": []
    }
  ]
}