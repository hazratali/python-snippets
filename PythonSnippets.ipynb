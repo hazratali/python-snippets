# Python Snippets

To check the current week of the year, use the following. It will print the current week number of the year. 

```python
import datetime
datetime.date.today().isocalendar()[1] 
```

